{
  "nbformat": 4,
  "nbformat_minor": 0,
  "metadata": {
    "colab": {
      "provenance": [],
      "toc_visible": true,
      "authorship_tag": "ABX9TyNQGnqfwA+T+EwW8Ik2SNA/",
      "include_colab_link": true
    },
    "kernelspec": {
      "name": "python3",
      "display_name": "Python 3"
    },
    "language_info": {
      "name": "python"
    }
  },
  "cells": [
    {
      "cell_type": "markdown",
      "metadata": {
        "id": "view-in-github",
        "colab_type": "text"
      },
      "source": [
        "<a href=\"https://colab.research.google.com/github/tiarajuliarsita/Tugas-PAA-2/blob/main/tugas_paa.ipynb\" target=\"_parent\"><img src=\"https://colab.research.google.com/assets/colab-badge.svg\" alt=\"Open In Colab\"/></a>"
      ]
    },
    {
      "cell_type": "markdown",
      "source": [
        "**Nama : Tiara Juli Arsita**\n",
        "\n",
        "**Nim : F55121053**\n",
        "\n",
        "\n"
      ],
      "metadata": {
        "id": "Es8GAfvYQ6wy"
      }
    },
    {
      "cell_type": "code",
      "execution_count": 2,
      "metadata": {
        "id": "TDKFNyl6O9fz"
      },
      "outputs": [],
      "source": [
        "import time\n",
        "\n",
        "def bubble_sort(arr):\n",
        "    n = len(arr)\n",
        "    for i in range(n-1):\n",
        "        for j in range(0, n-i-1):\n",
        "            if arr[j] > arr[j+1]:\n",
        "                arr[j], arr[j+1] = arr[j+1], arr[j]\n",
        "\n"
      ]
    },
    {
      "cell_type": "code",
      "source": [
        "\n",
        "def insertion_sort(arr):\n",
        "    for i in range(1, len(arr)):\n",
        "        key = arr[i]\n",
        "        j = i - 1\n",
        "        while j >= 0 and arr[j] > key:\n",
        "            arr[j+1] = arr[j]\n",
        "            j -= 1\n",
        "        arr[j+1] = key\n"
      ],
      "metadata": {
        "id": "JXSgJGIZPPjR"
      },
      "execution_count": 3,
      "outputs": []
    },
    {
      "cell_type": "code",
      "source": [
        "\n",
        "# data yang diurutkan \n",
        "arr = [11, 56, 7, 3, 18, 23]\n",
        "\n",
        "# Bubble Sort\n",
        "start_time = time.time()\n",
        "bubble_sort(arr)\n",
        "end_time = time.time()\n",
        "bubble_sort_runtime = end_time - start_time\n",
        "print(\"Bubble Sort:\")\n",
        "print(\"Hasil:\", arr)\n",
        "print(\"Runtime:\", bubble_sort_runtime)\n"
      ],
      "metadata": {
        "colab": {
          "base_uri": "https://localhost:8080/"
        },
        "id": "u-ic4R0hPU2v",
        "outputId": "79b11337-bfd6-428d-acd5-46a8243b8067"
      },
      "execution_count": 4,
      "outputs": [
        {
          "output_type": "stream",
          "name": "stdout",
          "text": [
            "Bubble Sort:\n",
            "Hasil: [3, 7, 11, 18, 23, 56]\n",
            "Runtime: 9.417533874511719e-05\n"
          ]
        }
      ]
    },
    {
      "cell_type": "code",
      "source": [
        "\n",
        "# data yang di urutkan\n",
        "arr = [11, 56, 7, 3, 18, 23]\n",
        "\n",
        "# Insertion Sort\n",
        "start_time = time.time()\n",
        "insertion_sort(arr)\n",
        "end_time = time.time()\n",
        "insertion_sort_runtime = end_time - start_time\n",
        "print(\"Insertion Sort:\")\n",
        "print(\"Hasil:\", arr)\n",
        "print(\"Runtime:\", insertion_sort_runtime)"
      ],
      "metadata": {
        "colab": {
          "base_uri": "https://localhost:8080/"
        },
        "id": "FZzkYPyRPdR9",
        "outputId": "65194110-a5b0-4738-f22a-cd7827af0f64"
      },
      "execution_count": 5,
      "outputs": [
        {
          "output_type": "stream",
          "name": "stdout",
          "text": [
            "Insertion Sort:\n",
            "Hasil: [3, 7, 11, 18, 23, 56]\n",
            "Runtime: 7.867813110351562e-05\n"
          ]
        }
      ]
    },
    {
      "cell_type": "markdown",
      "source": [],
      "metadata": {
        "id": "7akmvF21Q5gq"
      }
    },
    {
      "cell_type": "markdown",
      "source": [
        "Dalam kasus ini, jika kita melihat runtime yang ditampilkan dalam output program, Insertion Sort memiliki runtime yang lebih singkat dibandingkan dengan Bubble Sort. Oleh karena itu, dari segi kecepatan, Insertion Sort lebih optimal daripada Bubble Sort.\n",
        "\n",
        "Ada beberapa alasan mengapa Insertion Sort lebih optimal dalam kasus ini:\n",
        "\n",
        "1. Kompleksitas Waktu: Kompleksitas waktu Bubble Sort adalah O(n^2) di mana n adalah jumlah elemen dalam array. Sedangkan kompleksitas waktu Insertion Sort adalah O(n^2) dalam kasus terburuk, tetapi memiliki kompleksitas waktu O(n) dalam kasus terbaik jika array sudah hampir terurut. Dalam kasus ini, karena array kita tidak terurut secara terbalik atau dalam urutan acak, Insertion Sort dapat memberikan keuntungan dari kompleksitas waktu O(n) yang lebih baik.\n",
        "\n",
        "2. Perbandingan dan Pertukaran: Pada setiap iterasi Bubble Sort, elemen-elemen dibandingkan dan ditukar jika diperlukan, bahkan jika elemen tersebut sudah berada di posisi yang benar. Hal ini mengakibatkan banyak operasi pertukaran yang tidak perlu. Di sisi lain, Insertion Sort hanya melakukan perbandingan dan pertukaran ketika diperlukan untuk menempatkan elemen di tempat yang tepat. Dalam kasus yang hampir terurut, Insertion Sort akan membutuhkan lebih sedikit operasi pertukaran.\n",
        "\n",
        "Dengan demikian, dalam kasus ini, Insertion Sort lebih optimal dari segi kecepatan karena memiliki kompleksitas waktu yang lebih baik dan membutuhkan lebih sedikit operasi pertukaran."
      ],
      "metadata": {
        "id": "J92oHeDhQ0AF"
      }
    }
  ]
}